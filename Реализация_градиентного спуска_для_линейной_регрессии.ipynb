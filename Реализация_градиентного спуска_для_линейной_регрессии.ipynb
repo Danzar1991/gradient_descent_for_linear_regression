{
  "cells": [
    {
      "cell_type": "markdown",
      "id": "49e586d8",
      "metadata": {
        "id": "49e586d8"
      },
      "source": [
        "Реализуем градиентный спуск для задачи поиска оптимальных коэффициентов в MSE регрессии!"
      ]
    },
    {
      "cell_type": "code",
      "execution_count": 1,
      "id": "eab09970",
      "metadata": {
        "id": "eab09970"
      },
      "outputs": [],
      "source": [
        "import numpy as np\n",
        "import pandas as pd\n",
        "import matplotlib.pyplot as plt"
      ]
    },
    {
      "cell_type": "markdown",
      "id": "471323ae",
      "metadata": {
        "id": "471323ae"
      },
      "source": [
        "Обучим модель линейной регрессии:\n",
        "\n",
        "$$\n",
        "a(x) = \\beta_1 d_{1} + \\beta_2 d_{2} + \\beta_3 d_{3} + \\beta_4 d_{4} + \\beta_5 d_{5} + \\beta_6 d_{6} + \\beta_7 d_{7} + \\beta_8 d_{8} + \\beta_9 d_{9} + \\beta_{10} d_{10} + \\beta_0\n",
        "$$\n",
        "\n",
        "Которая минимизирует MSE:\n",
        "\n",
        "$$\n",
        "Q(a(X), Y) = \\sum_i^{1000} (a(x_i) - y_i)^2\n",
        "$$"
      ]
    },
    {
      "cell_type": "code",
      "execution_count": 13,
      "id": "c45eb5cb",
      "metadata": {
        "tags": [],
        "colab": {
          "base_uri": "https://localhost:8080/",
          "height": 206
        },
        "id": "c45eb5cb",
        "outputId": "e108e4a2-6d57-4bc3-e23f-98099a7f945a"
      },
      "outputs": [
        {
          "output_type": "execute_result",
          "data": {
            "text/plain": [
              "   longitude  latitude  housing_median_age  total_rooms  total_bedrooms  \\\n",
              "0   2.619288 -0.671500           -1.079639     1.361655        1.764152   \n",
              "1   2.539494 -0.573248           -0.761850     2.296540        3.230346   \n",
              "2   2.494610 -0.905436           -0.920744    -0.882436       -0.866931   \n",
              "3   2.489623 -0.928830           -1.159087    -0.524171       -0.480216   \n",
              "4   2.489623 -0.961581           -0.682402    -0.545731       -0.506313   \n",
              "\n",
              "   population  households  median_income  median_house_value  \n",
              "0   -0.361173   -0.075996      -1.252506           -1.210522  \n",
              "1   -0.261858   -0.099401      -1.081451           -1.096713  \n",
              "2   -0.955326   -0.999223      -1.170071           -1.048430  \n",
              "3   -0.796769   -0.715753      -0.362590           -1.154480  \n",
              "4   -0.701809   -0.622130      -1.026424           -1.222593  "
            ],
            "text/html": [
              "\n",
              "  <div id=\"df-bcad3b17-0eeb-4921-a0f4-42125e8e8434\">\n",
              "    <div class=\"colab-df-container\">\n",
              "      <div>\n",
              "<style scoped>\n",
              "    .dataframe tbody tr th:only-of-type {\n",
              "        vertical-align: middle;\n",
              "    }\n",
              "\n",
              "    .dataframe tbody tr th {\n",
              "        vertical-align: top;\n",
              "    }\n",
              "\n",
              "    .dataframe thead th {\n",
              "        text-align: right;\n",
              "    }\n",
              "</style>\n",
              "<table border=\"1\" class=\"dataframe\">\n",
              "  <thead>\n",
              "    <tr style=\"text-align: right;\">\n",
              "      <th></th>\n",
              "      <th>longitude</th>\n",
              "      <th>latitude</th>\n",
              "      <th>housing_median_age</th>\n",
              "      <th>total_rooms</th>\n",
              "      <th>total_bedrooms</th>\n",
              "      <th>population</th>\n",
              "      <th>households</th>\n",
              "      <th>median_income</th>\n",
              "      <th>median_house_value</th>\n",
              "    </tr>\n",
              "  </thead>\n",
              "  <tbody>\n",
              "    <tr>\n",
              "      <th>0</th>\n",
              "      <td>2.619288</td>\n",
              "      <td>-0.671500</td>\n",
              "      <td>-1.079639</td>\n",
              "      <td>1.361655</td>\n",
              "      <td>1.764152</td>\n",
              "      <td>-0.361173</td>\n",
              "      <td>-0.075996</td>\n",
              "      <td>-1.252506</td>\n",
              "      <td>-1.210522</td>\n",
              "    </tr>\n",
              "    <tr>\n",
              "      <th>1</th>\n",
              "      <td>2.539494</td>\n",
              "      <td>-0.573248</td>\n",
              "      <td>-0.761850</td>\n",
              "      <td>2.296540</td>\n",
              "      <td>3.230346</td>\n",
              "      <td>-0.261858</td>\n",
              "      <td>-0.099401</td>\n",
              "      <td>-1.081451</td>\n",
              "      <td>-1.096713</td>\n",
              "    </tr>\n",
              "    <tr>\n",
              "      <th>2</th>\n",
              "      <td>2.494610</td>\n",
              "      <td>-0.905436</td>\n",
              "      <td>-0.920744</td>\n",
              "      <td>-0.882436</td>\n",
              "      <td>-0.866931</td>\n",
              "      <td>-0.955326</td>\n",
              "      <td>-0.999223</td>\n",
              "      <td>-1.170071</td>\n",
              "      <td>-1.048430</td>\n",
              "    </tr>\n",
              "    <tr>\n",
              "      <th>3</th>\n",
              "      <td>2.489623</td>\n",
              "      <td>-0.928830</td>\n",
              "      <td>-1.159087</td>\n",
              "      <td>-0.524171</td>\n",
              "      <td>-0.480216</td>\n",
              "      <td>-0.796769</td>\n",
              "      <td>-0.715753</td>\n",
              "      <td>-0.362590</td>\n",
              "      <td>-1.154480</td>\n",
              "    </tr>\n",
              "    <tr>\n",
              "      <th>4</th>\n",
              "      <td>2.489623</td>\n",
              "      <td>-0.961581</td>\n",
              "      <td>-0.682402</td>\n",
              "      <td>-0.545731</td>\n",
              "      <td>-0.506313</td>\n",
              "      <td>-0.701809</td>\n",
              "      <td>-0.622130</td>\n",
              "      <td>-1.026424</td>\n",
              "      <td>-1.222593</td>\n",
              "    </tr>\n",
              "  </tbody>\n",
              "</table>\n",
              "</div>\n",
              "      <button class=\"colab-df-convert\" onclick=\"convertToInteractive('df-bcad3b17-0eeb-4921-a0f4-42125e8e8434')\"\n",
              "              title=\"Convert this dataframe to an interactive table.\"\n",
              "              style=\"display:none;\">\n",
              "        \n",
              "  <svg xmlns=\"http://www.w3.org/2000/svg\" height=\"24px\"viewBox=\"0 0 24 24\"\n",
              "       width=\"24px\">\n",
              "    <path d=\"M0 0h24v24H0V0z\" fill=\"none\"/>\n",
              "    <path d=\"M18.56 5.44l.94 2.06.94-2.06 2.06-.94-2.06-.94-.94-2.06-.94 2.06-2.06.94zm-11 1L8.5 8.5l.94-2.06 2.06-.94-2.06-.94L8.5 2.5l-.94 2.06-2.06.94zm10 10l.94 2.06.94-2.06 2.06-.94-2.06-.94-.94-2.06-.94 2.06-2.06.94z\"/><path d=\"M17.41 7.96l-1.37-1.37c-.4-.4-.92-.59-1.43-.59-.52 0-1.04.2-1.43.59L10.3 9.45l-7.72 7.72c-.78.78-.78 2.05 0 2.83L4 21.41c.39.39.9.59 1.41.59.51 0 1.02-.2 1.41-.59l7.78-7.78 2.81-2.81c.8-.78.8-2.07 0-2.86zM5.41 20L4 18.59l7.72-7.72 1.47 1.35L5.41 20z\"/>\n",
              "  </svg>\n",
              "      </button>\n",
              "      \n",
              "  <style>\n",
              "    .colab-df-container {\n",
              "      display:flex;\n",
              "      flex-wrap:wrap;\n",
              "      gap: 12px;\n",
              "    }\n",
              "\n",
              "    .colab-df-convert {\n",
              "      background-color: #E8F0FE;\n",
              "      border: none;\n",
              "      border-radius: 50%;\n",
              "      cursor: pointer;\n",
              "      display: none;\n",
              "      fill: #1967D2;\n",
              "      height: 32px;\n",
              "      padding: 0 0 0 0;\n",
              "      width: 32px;\n",
              "    }\n",
              "\n",
              "    .colab-df-convert:hover {\n",
              "      background-color: #E2EBFA;\n",
              "      box-shadow: 0px 1px 2px rgba(60, 64, 67, 0.3), 0px 1px 3px 1px rgba(60, 64, 67, 0.15);\n",
              "      fill: #174EA6;\n",
              "    }\n",
              "\n",
              "    [theme=dark] .colab-df-convert {\n",
              "      background-color: #3B4455;\n",
              "      fill: #D2E3FC;\n",
              "    }\n",
              "\n",
              "    [theme=dark] .colab-df-convert:hover {\n",
              "      background-color: #434B5C;\n",
              "      box-shadow: 0px 1px 3px 1px rgba(0, 0, 0, 0.15);\n",
              "      filter: drop-shadow(0px 1px 2px rgba(0, 0, 0, 0.3));\n",
              "      fill: #FFFFFF;\n",
              "    }\n",
              "  </style>\n",
              "\n",
              "      <script>\n",
              "        const buttonEl =\n",
              "          document.querySelector('#df-bcad3b17-0eeb-4921-a0f4-42125e8e8434 button.colab-df-convert');\n",
              "        buttonEl.style.display =\n",
              "          google.colab.kernel.accessAllowed ? 'block' : 'none';\n",
              "\n",
              "        async function convertToInteractive(key) {\n",
              "          const element = document.querySelector('#df-bcad3b17-0eeb-4921-a0f4-42125e8e8434');\n",
              "          const dataTable =\n",
              "            await google.colab.kernel.invokeFunction('convertToInteractive',\n",
              "                                                     [key], {});\n",
              "          if (!dataTable) return;\n",
              "\n",
              "          const docLinkHtml = 'Like what you see? Visit the ' +\n",
              "            '<a target=\"_blank\" href=https://colab.research.google.com/notebooks/data_table.ipynb>data table notebook</a>'\n",
              "            + ' to learn more about interactive tables.';\n",
              "          element.innerHTML = '';\n",
              "          dataTable['output_type'] = 'display_data';\n",
              "          await google.colab.output.renderOutput(dataTable, element);\n",
              "          const docLink = document.createElement('div');\n",
              "          docLink.innerHTML = docLinkHtml;\n",
              "          element.appendChild(docLink);\n",
              "        }\n",
              "      </script>\n",
              "    </div>\n",
              "  </div>\n",
              "  "
            ]
          },
          "metadata": {},
          "execution_count": 13
        }
      ],
      "source": [
        "data = pd.read_csv('/content/sample_data/california_housing_train.csv')\n",
        "#предварительно нормализуем данные для большей точности\n",
        "normalized_df=(data -data.mean())/data.std()\n",
        "normalized_df\n",
        "\n",
        "\n",
        "normalized_df.head()"
      ]
    },
    {
      "cell_type": "markdown",
      "id": "e58829ca",
      "metadata": {
        "id": "e58829ca"
      },
      "source": [
        "Обучим коэффициенты линейной регрессии с помощью библиотеки <a href=\"https://scikit-learn.org/stable/modules/generated/sklearn.linear_model.LinearRegression.html\"> **sklearn** </a>\n",
        "\n",
        "Отдельно выведем оценку свободного коэффициента  ($\\beta_0$ при $d_0 = 1$)"
      ]
    },
    {
      "cell_type": "code",
      "execution_count": 14,
      "id": "689e8999",
      "metadata": {
        "colab": {
          "base_uri": "https://localhost:8080/"
        },
        "id": "689e8999",
        "outputId": "74ee479f-1b57-4a49-9ff9-9aa148f7fd77"
      },
      "outputs": [
        {
          "output_type": "stream",
          "name": "stdout",
          "text": [
            "[-0.74581259 -0.79103097  0.12487717 -0.15747156  0.42754946 -0.38091065\n",
            "  0.15063393  0.66641936]\n",
            "-4.541829989396135e-15\n"
          ]
        }
      ],
      "source": [
        "from sklearn.linear_model import LinearRegression\n",
        "\n",
        "### Your code is here\n",
        "X = normalized_df.drop(columns=['median_house_value'])\n",
        "Y = normalized_df['median_house_value']\n",
        "\n",
        "\n",
        "\n",
        "model=LinearRegression()\n",
        "model.fit(X,Y)\n",
        "\n",
        "print(model.coef_)\n",
        "    \n",
        "print(model.intercept_)\n"
      ]
    },
    {
      "cell_type": "code",
      "source": [
        "X.shape\n"
      ],
      "metadata": {
        "colab": {
          "base_uri": "https://localhost:8080/"
        },
        "id": "r8MT88SKnjuu",
        "outputId": "fa09a4c1-157d-414f-f0c7-3ab47157ed6a"
      },
      "id": "r8MT88SKnjuu",
      "execution_count": 15,
      "outputs": [
        {
          "output_type": "execute_result",
          "data": {
            "text/plain": [
              "(17000, 8)"
            ]
          },
          "metadata": {},
          "execution_count": 15
        }
      ]
    },
    {
      "cell_type": "markdown",
      "id": "e1a273c8",
      "metadata": {
        "id": "e1a273c8"
      },
      "source": [
        "Теперь реализуем класс для оптимизации коэффициентов линейной регрессии МНК.\n",
        "Подразумевается, что на вход алгоритм будет принимать следующие параметры:\n",
        "\n",
        "- 2 pandas датафрейма **samples** и **targets**, содержащих матрицу объектов и ветор ответов соответственно\n",
        "- значение **learning rate**, который корректирует длину вектора-градиента (чтобы он не взорвался)\n",
        "- значение **threshold**'а для критерия останова (когда мы считаем, что мы сошлись к оптимуму)\n",
        "- параметр **copy**, который позволяет либо делать изменения in-place в датафрейме, подающимся в класс, если изменения матрицы объектов в принципе при обучении имеются. Или же копировать объект при инициализации класса и возвращать новый объект, если требуется.\n",
        "\n",
        "Он будет состоять из следующих важных компонент-методов:\n",
        "\n",
        "- **add_constant_feature**: добавляет колонку с названием *constant* из единичек к переданному датафрейму **samples**. Это позволяет оценить свободный коэффициент $\\beta_0$.\n",
        "\n",
        "- **calculate_mse_loss**: вычисляет при текущих весах **self.beta** значение среднеквадратической ошибки.\n",
        "\n",
        "- **calculate_gradient**: вычисляет при текущих весах вектор-градиент по функционалу.\n",
        "\n",
        "- **iteration**: производит итерацию градиентного спуска, то есть обновляет веса модели, в соответствии с установленным **learning_rate = $\\eta$**: $\\beta^{(n+1)} = \\beta^{(n)} - \\eta \\cdot \\nabla Q(\\beta^{(n)})$\n",
        "\n",
        "- **learn**: производит итерации обучения до того момента, пока не сработает критерий останова обучения. В этот раз критерием останова будет следующее событие: во время крайней итерации изменение в функционале качества модели составило значение меньшее, чем **self.threshold**. Иными словами, $|Q(\\beta^{(n)}) - Q(\\beta^{(n+1)})| < threshold$.\n",
        "\n",
        "Установим в **__init__** аттрибут экземпляра с названием **iteration_loss_dict**, который будет устроен следующим образом: на каждой итерации мы будем добавлять в словарь пару ключ-значение, где ключем будет номер итерации $n$, а значением - среднеквадратическая ошибка в точке $\\beta^{(n)}$. Это пригодится нам в будущем для визуализации."
      ]
    },
    {
      "cell_type": "markdown",
      "id": "10a385b4",
      "metadata": {
        "id": "10a385b4"
      },
      "source": [
        "Пример вычисления производной"
      ]
    },
    {
      "cell_type": "markdown",
      "id": "b582abc1",
      "metadata": {
        "id": "b582abc1"
      },
      "source": [
        "$$\n",
        "Q(a, X) = \\frac{1}{N}\\cdot\\sum_{i=1}^N (\\beta_1 \\cdot d_{i1} + ... + \\beta_n \\cdot d_{in} - y_i)^2\n",
        "$$\n",
        "\n",
        "Выше - минимизируемая функция. Она зависит от n переменных: $\\beta_1, ..., \\beta_n$. Вектор-градиент - матрица с одной строчкой, состоящей из производных 1го порядка по всем переменным.\n",
        "\n",
        "$$\n",
        "\\nabla Q(a, X) = (Q'_{\\beta_1} \\;\\;\\; Q'_{\\beta_2} \\;\\;\\; ... \\;\\;\\; Q'_{\\beta_{n-1}}  \\;\\;\\;  Q'_{\\beta_n})\n",
        "$$\n",
        "\n",
        "Пример вычисления производной по первой переменной:\n",
        "\n",
        "$$\n",
        "Q'_{\\beta_1} = \\frac{2}{N} \\cdot \\sum_{i=1}^N d_{i1} (\\beta_1 \\cdot d_{i1} + ... + \\beta_{n} \\cdot d_{in} - y_i)\n",
        "$$\n",
        "\n",
        "Скажем, для нашего датасета X, Y вычислим эту саму производную при начальных единичных коэффициентах $\\beta_{start} = (1 \\;\\;\\; 1 \\;\\;\\; ...)$"
      ]
    },
    {
      "cell_type": "markdown",
      "id": "0af4c649",
      "metadata": {
        "id": "0af4c649"
      },
      "source": [
        "Получим для каждого объекта в начале выражение из скобочек: \n",
        "$$\n",
        "\\beta_1 \\cdot d_{i1} + ... + \\beta_{n} \\cdot d_{in} - y_i\n",
        "$$"
      ]
    },
    {
      "cell_type": "code",
      "execution_count": 6,
      "id": "8ee9cb9d",
      "metadata": {
        "colab": {
          "base_uri": "https://localhost:8080/"
        },
        "id": "8ee9cb9d",
        "outputId": "7f9b95dd-3ff1-46ad-98c8-3f3a9de59527"
      },
      "outputs": [
        {
          "output_type": "execute_result",
          "data": {
            "text/plain": [
              "54298476328.67022"
            ]
          },
          "metadata": {},
          "execution_count": 6
        }
      ],
      "source": [
        "\n",
        "### Инициализируем точку для коэффициентов в виде вектора из единичек\n",
        "initial_betas = np.ones(X.shape[1])\n",
        "### Получим выражение выше для каждого объекта. \n",
        "### Для этого скалярно перемножим строчки из X на наши beta\n",
        "\n",
        "y_pred = np.dot(X, initial_betas.reshape(-1, 1)).ravel()\n",
        "difference_value = (y_pred - Y).values\n",
        "MSE = np.mean(np.power(difference_value, 2))\n",
        "MSE"
      ]
    },
    {
      "cell_type": "markdown",
      "id": "2aa7f881",
      "metadata": {
        "id": "2aa7f881"
      },
      "source": [
        "Теперь полученное значение для каждого объекта умножим на соответствующее значение признака $d_1$:\n",
        "\n",
        "$$\n",
        "d_{i1} \\cdot (\\beta_1 \\cdot d_{i1} + ... + \\beta_{n} \\cdot d_{in} - y_i)\n",
        "$$"
      ]
    },
    {
      "cell_type": "code",
      "execution_count": 9,
      "id": "1bfa268e",
      "metadata": {
        "tags": [],
        "id": "1bfa268e",
        "colab": {
          "base_uri": "https://localhost:8080/"
        },
        "outputId": "0c382328-352f-4ff7-e719-33b0a28d852a"
      },
      "outputs": [
        {
          "output_type": "execute_result",
          "data": {
            "text/plain": [
              "48382131.852033496"
            ]
          },
          "metadata": {},
          "execution_count": 9
        }
      ],
      "source": [
        "### Например, возьмем столбик со значениями 1 признака\n",
        "\n",
        "d_i1 = X.values[:, 0]\n",
        "\n",
        "### Умножим каждый объект на соответствующее значение признака\n",
        "\n",
        "grad_i1 = difference_value * d_i1\n",
        "\n",
        "### Наконец, умножим все на 2 и усреднимся, \n",
        "### чтобы получить значение производной по первому параметру\n",
        "\n",
        "2 * np.mean(grad_i1)"
      ]
    },
    {
      "cell_type": "markdown",
      "id": "2636735d",
      "metadata": {
        "id": "2636735d"
      },
      "source": [
        "learn(self)\n",
        "\n",
        "метод возвращает итоговую среднеквадратическую ошибку.\n",
        "метод итеративно вычисляет среднеквадратическую ошибку и вектор-градиент. номер итерации и MSE записываются в словарь *iteration_loss_dict*. критерий останова срабатывает тогда, когда абсолютное значение разницы двух последних MSE меньше *self.threshold*."
      ]
    },
    {
      "cell_type": "code",
      "execution_count": 25,
      "id": "6e12438f",
      "metadata": {
        "id": "6e12438f"
      },
      "outputs": [],
      "source": [
        "class GradientDescentMse:\n",
        "    \"\"\"\n",
        "    Базовый класс для реализации градиентного спуска в задаче линейной МНК регрессии \n",
        "    \"\"\"\n",
        "\n",
        "    def __init__(self, samples: pd.DataFrame, targets: pd.DataFrame,\n",
        "                 learning_rate: float = 1e-1, threshold = 1e-6, copy: bool = True, count_iteration = 10000):\n",
        "        \"\"\"\n",
        "        self.samples - матрица признаков\n",
        "        self.targets - вектор таргетов\n",
        "        self.beta - вектор из изначальными весами модели == коэффициентами бета (состоит из единиц)\n",
        "        self.learning_rate - параметр *learning_rate* для корректировки нормы градиента\n",
        "        self.threshold - величина, меньше которой изменение в loss-функции означает остановку градиентного спуска\n",
        "        iteration_loss_dict - словарь, который будет хранить номер итерации и соответствующую MSE\n",
        "        copy: копирование матрицы признаков или создание изменения in-place\n",
        "        \"\"\"\n",
        "        self.copy = copy\n",
        "        if self.copy:\n",
        "            self.samples = samples.copy(deep=True)\n",
        "        else:\n",
        "            self.samples = samples\n",
        "        self.targets = targets\n",
        "        self.learning_rate = learning_rate\n",
        "        self.threshold = threshold\n",
        "        self.beta = np.ones(X.shape[1])\n",
        "        self.iteration_loss_mse = {}\n",
        "        self.count_iteration = count_iteration\n",
        "        self.count_n = 0\n",
        "        \n",
        "    def add_constant_feature(self):\n",
        "        \"\"\"\n",
        "        Метод для создания константной фичи в матрице объектов samples\n",
        "        Метод создает колонку с константным признаком (interсept) в матрице признаков.\n",
        "        Hint: так как количество признаков увеличилось на одну, \n",
        "        не забудьте дополнить вектор с изначальными весами модели!\n",
        "        \"\"\"\n",
        "        self.samples['constant'] = [1]*self.samples.shape[0]\n",
        "        self.beta = np.ones(self.samples.shape[1])\n",
        "        \n",
        "    def calculate_mse_loss(self) -> float:\n",
        "        \"\"\"\n",
        "        Метод для расчета среднеквадратической ошибки\n",
        "        \n",
        "        :return: среднеквадратическая ошибка при текущих весах модели : float\n",
        "        \"\"\"\n",
        "        y_pred = np.dot(self.samples, self.beta.reshape(-1, 1)).ravel()\n",
        "        difference_value = (y_pred - self.targets).values\n",
        "        return np.mean(np.power(difference_value, 2))\n",
        "\n",
        "    def calculate_gradient(self) -> np.ndarray:\n",
        "        \"\"\"\n",
        "        Метод для вычисления вектора-градиента\n",
        "        Метод возвращает вектор-градиент, содержащий производные по каждому признаку.\n",
        "        Сначала матрица признаков скалярно перемножается на вектор self.beta, и из каждой колонки\n",
        "        полученной матрицы вычитается вектор таргетов. Затем полученная матрица скалярно умножается на матрицу признаков.\n",
        "        Наконец, итоговая матрица умножается на 2 и усредняется по каждому признаку.\n",
        "        \n",
        "        :return: вектор-градиент, т.е. массив, содержащий соответствующее количество производных по каждой переменной : np.ndarray\n",
        "        \"\"\"\n",
        "        y_pred = np.dot(self.samples, self.beta.reshape(-1, 1)).ravel()\n",
        "        difference_value = (y_pred - self.targets).values\n",
        "        grad_vector = np.array([2*np.mean((self.samples.values[:, i])*difference_value) for i in range(self.samples.shape[1])])\n",
        "        return grad_vector\n",
        "  \n",
        "    \n",
        "    \n",
        "    def iteration(self):\n",
        "        \"\"\"\n",
        "        Обновляем веса модели в соответствии с текущим вектором-градиентом\n",
        "        \"\"\"\n",
        "        self.beta = self.beta - self.learning_rate * self.calculate_gradient()\n",
        "\n",
        "        return self.beta\n",
        "        \n",
        "    def learn(self):\n",
        "        \"\"\"\n",
        "        Итеративное обучение весов модели до срабатывания критерия останова\n",
        "        Запись mse и номера итерации в iteration_loss_dict\n",
        "        \n",
        "        Описание алгоритма работы для изменения бет:\n",
        "            Фиксируем текущие beta -> start_betas\n",
        "            Делаем шаг градиентного спуска\n",
        "            Записываем новые beta -> new_betas\n",
        "            Если |L(new_beta) - L(start_beta)| >= threshold:\n",
        "                Повторяем первые 3 шага\n",
        "        \"\"\"\n",
        "        for _ in range(self.count_iteration):\n",
        "            start_beta = self.beta\n",
        "            \n",
        "            loss_start = self.calculate_mse_loss()\n",
        "            self.iteration_loss_mse[self.count_n] = loss_start\n",
        "            \n",
        "            self.beta = self.iteration()       \n",
        "            loss_new = self.calculate_mse_loss()\n",
        "            self.count_n += 1\n",
        "\n",
        "            if abs(loss_start - loss_new) < self.threshold:\n",
        "                break\n",
        "            \n",
        "           "
      ]
    },
    {
      "cell_type": "markdown",
      "id": "2687b3fc",
      "metadata": {
        "id": "2687b3fc"
      },
      "source": [
        "Обучим коэффициенты линейной модели с помощью реализованного нами градиентного спуска, не забыв добавить свободную переменную. Сравним: такие ли же коэффициенты, как и при использовании **LinearRegression** из **sklearn**. В целом разница получилась незначительной"
      ]
    },
    {
      "cell_type": "code",
      "execution_count": 35,
      "id": "e6937851",
      "metadata": {
        "id": "e6937851",
        "colab": {
          "base_uri": "https://localhost:8080/"
        },
        "outputId": "6213e70f-781b-4120-ff97-67925c27362c"
      },
      "outputs": [
        {
          "output_type": "stream",
          "name": "stdout",
          "text": [
            "[-7.29675229e-01 -7.75528845e-01  1.25538419e-01 -1.57843317e-01\n",
            "  3.74407366e-01 -3.90825137e-01  2.13582641e-01  6.66984355e-01\n",
            " -4.38890636e-15]\n"
          ]
        }
      ],
      "source": [
        "GD = GradientDescentMse(samples=X, targets=Y)\n",
        "GD.add_constant_feature()\n",
        "GD.learn()\n",
        "print(GD.beta)\n"
      ]
    },
    {
      "cell_type": "markdown",
      "id": "f615ab1f",
      "metadata": {
        "id": "f615ab1f"
      },
      "source": [
        "В машинном обучении зачастую исследуют так называемые **траектории обучения** (или **learning paths**). Это графики, показывающие, как во время обучения при каждой следующей итерации изменялось значение минимизируемого функционала. Построим такие траектории."
      ]
    },
    {
      "cell_type": "code",
      "execution_count": 34,
      "id": "ed97292c",
      "metadata": {
        "tags": [],
        "id": "ed97292c",
        "colab": {
          "base_uri": "https://localhost:8080/",
          "height": 447
        },
        "outputId": "23841675-0c7b-4ce1-fee7-4a9e93e66f06"
      },
      "outputs": [
        {
          "output_type": "execute_result",
          "data": {
            "text/plain": [
              "[<matplotlib.lines.Line2D at 0x7f7c52116970>]"
            ]
          },
          "metadata": {},
          "execution_count": 34
        },
        {
          "output_type": "display_data",
          "data": {
            "text/plain": [
              "<Figure size 640x480 with 1 Axes>"
            ],
            "image/png": "[encoded data removed]"
          },
          "metadata": {}
        }
      ],
      "source": [
        "import matplotlib.pyplot as plt\n",
        "\n",
        "\n",
        "plt.plot(GD.iteration_loss_mse.keys(), GD.iteration_loss_mse.values())"
      ]
    }
  ],
  "metadata": {
    "kernelspec": {
      "display_name": "Python 3 (ipykernel)",
      "language": "python",
      "name": "python3"
    },
    "language_info": {
      "codemirror_mode": {
        "name": "ipython",
        "version": 3
      },
      "file_extension": ".py",
      "mimetype": "text/x-python",
      "name": "python",
      "nbconvert_exporter": "python",
      "pygments_lexer": "ipython3",
      "version": "3.10.6"
    },
    "colab": {
      "provenance": []
    }
  },
  "nbformat": 4,
  "nbformat_minor": 5
}